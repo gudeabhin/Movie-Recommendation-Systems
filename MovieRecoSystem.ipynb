{
  "cells": [
    {
      "cell_type": "markdown",
      "id": "cf5bc0fc",
      "metadata": {
        "id": "cf5bc0fc"
      },
      "source": [
        "## Movie Recommendation System"
      ]
    },
    {
      "cell_type": "markdown",
      "id": "ec4b856e",
      "metadata": {
        "id": "ec4b856e"
      },
      "source": [
        "### Imports"
      ]
    },
    {
      "cell_type": "code",
      "execution_count": null,
      "id": "385cbf23",
      "metadata": {
        "id": "385cbf23"
      },
      "outputs": [],
      "source": [
        "import numpy as np\n",
        "import pandas as pd\n",
        "import matplotlib.pyplot as plt\n",
        "import math\n",
        "import seaborn as sns\n",
        "import pyspark\n",
        "from pyspark.sql.types import *\n",
        "from pyspark.sql.functions import *\n",
        "from pyspark.ml.evaluation import RegressionEvaluator\n",
        "from pyspark.ml.recommendation import ALS\n",
        "from pyspark.ml.tuning import CrossValidator,ParamGridBuilder"
      ]
    },
    {
      "cell_type": "code",
      "execution_count": null,
      "id": "9a7b2469",
      "metadata": {
        "colab": {
          "base_uri": "https://localhost:8080/"
        },
        "id": "9a7b2469",
        "outputId": "44567ae7-b729-4c85-c725-0199fa2632ee"
      },
      "outputs": [
        {
          "output_type": "stream",
          "name": "stdout",
          "text": [
            "Collecting pyspark\n",
            "  Downloading pyspark-3.2.1.tar.gz (281.4 MB)\n",
            "\u001b[K     |████████████████████████████████| 281.4 MB 37 kB/s \n",
            "\u001b[?25hCollecting py4j==0.10.9.3\n",
            "  Downloading py4j-0.10.9.3-py2.py3-none-any.whl (198 kB)\n",
            "\u001b[K     |████████████████████████████████| 198 kB 67.5 MB/s \n",
            "\u001b[?25hBuilding wheels for collected packages: pyspark\n",
            "  Building wheel for pyspark (setup.py) ... \u001b[?25l\u001b[?25hdone\n",
            "  Created wheel for pyspark: filename=pyspark-3.2.1-py2.py3-none-any.whl size=281853642 sha256=62e9cbb7634b8a5dd1b7ee3973b16fcc848134c3dba1346a48cfef136d5111cb\n",
            "  Stored in directory: /root/.cache/pip/wheels/9f/f5/07/7cd8017084dce4e93e84e92efd1e1d5334db05f2e83bcef74f\n",
            "Successfully built pyspark\n",
            "Installing collected packages: py4j, pyspark\n",
            "Successfully installed py4j-0.10.9.3 pyspark-3.2.1\n"
          ]
        }
      ],
      "source": [
        "pip install pyspark"
      ]
    },
    {
      "cell_type": "markdown",
      "id": "d91820de",
      "metadata": {
        "id": "d91820de"
      },
      "source": [
        "### Spark Session"
      ]
    },
    {
      "cell_type": "code",
      "execution_count": null,
      "id": "fc1104c1",
      "metadata": {
        "colab": {
          "base_uri": "https://localhost:8080/"
        },
        "id": "fc1104c1",
        "outputId": "4722c928-7025-41c2-dfc2-0cc42e5aefb1"
      },
      "outputs": [
        {
          "output_type": "stream",
          "name": "stderr",
          "text": [
            "/usr/local/lib/python3.7/dist-packages/pyspark/sql/context.py:127: FutureWarning: Deprecated in 3.0.0. Use SparkSession.builder.getOrCreate() instead.\n",
            "  FutureWarning\n"
          ]
        }
      ],
      "source": [
        "conf = pyspark.SparkConf()\n",
        "sc = pyspark.SparkContext(conf=conf)\n",
        "sc.setLogLevel('OFF')\n",
        "spark = pyspark.SQLContext.getOrCreate(sc)\n",
        "from pyspark.sql.functions import *"
      ]
    },
    {
      "cell_type": "markdown",
      "id": "02acf1bc",
      "metadata": {
        "id": "02acf1bc"
      },
      "source": [
        "### Data Imports"
      ]
    },
    {
      "cell_type": "code",
      "execution_count": null,
      "id": "69b379cc",
      "metadata": {
        "id": "69b379cc"
      },
      "outputs": [],
      "source": [
        "movies = spark.read.option(\"inferSchema\", \"true\").option(\"header\", \"true\").csv(\"movies.csv\")\n",
        "ratings = spark.read.option(\"inferSchema\", \"true\").option(\"header\", \"true\").csv(\"ratings.csv\")"
      ]
    },
    {
      "cell_type": "markdown",
      "id": "9995cd4e",
      "metadata": {
        "id": "9995cd4e"
      },
      "source": [
        "### Temp Views for queries on the data"
      ]
    },
    {
      "cell_type": "code",
      "execution_count": null,
      "id": "a06460f6",
      "metadata": {
        "id": "a06460f6"
      },
      "outputs": [],
      "source": [
        "movies.createOrReplaceTempView(\"movies_data\")\n",
        "ratings.createOrReplaceTempView(\"ratings_data\")"
      ]
    },
    {
      "cell_type": "markdown",
      "id": "6a02d038",
      "metadata": {
        "id": "6a02d038"
      },
      "source": [
        "### Data Exploration"
      ]
    },
    {
      "cell_type": "code",
      "execution_count": null,
      "id": "ba834d56",
      "metadata": {
        "id": "ba834d56",
        "outputId": "48e3b3e5-fc48-4dbf-8c21-c70bdd4c5919"
      },
      "outputs": [
        {
          "name": "stdout",
          "output_type": "stream",
          "text": [
            "+-------+--------------------+--------------------+\n",
            "|movieId|               title|              genres|\n",
            "+-------+--------------------+--------------------+\n",
            "|      1|    Toy Story (1995)|Adventure|Animati...|\n",
            "|      2|      Jumanji (1995)|Adventure|Childre...|\n",
            "|      3|Grumpier Old Men ...|      Comedy|Romance|\n",
            "|      4|Waiting to Exhale...|Comedy|Drama|Romance|\n",
            "|      5|Father of the Bri...|              Comedy|\n",
            "|      6|         Heat (1995)|Action|Crime|Thri...|\n",
            "|      7|      Sabrina (1995)|      Comedy|Romance|\n",
            "|      8| Tom and Huck (1995)|  Adventure|Children|\n",
            "|      9| Sudden Death (1995)|              Action|\n",
            "|     10|    GoldenEye (1995)|Action|Adventure|...|\n",
            "|     11|American Presiden...|Comedy|Drama|Romance|\n",
            "|     12|Dracula: Dead and...|       Comedy|Horror|\n",
            "|     13|        Balto (1995)|Adventure|Animati...|\n",
            "|     14|        Nixon (1995)|               Drama|\n",
            "|     15|Cutthroat Island ...|Action|Adventure|...|\n",
            "|     16|       Casino (1995)|         Crime|Drama|\n",
            "|     17|Sense and Sensibi...|       Drama|Romance|\n",
            "|     18|   Four Rooms (1995)|              Comedy|\n",
            "|     19|Ace Ventura: When...|              Comedy|\n",
            "|     20|  Money Train (1995)|Action|Comedy|Cri...|\n",
            "+-------+--------------------+--------------------+\n",
            "only showing top 20 rows\n",
            "\n"
          ]
        }
      ],
      "source": [
        "movies.show()"
      ]
    },
    {
      "cell_type": "code",
      "execution_count": null,
      "id": "9521c1b8",
      "metadata": {
        "id": "9521c1b8",
        "outputId": "f80c42f0-44f3-4a0d-8a4f-c6ab22e0187d"
      },
      "outputs": [
        {
          "name": "stdout",
          "output_type": "stream",
          "text": [
            "+------+-------+------+----------+\n",
            "|userId|movieId|rating| timestamp|\n",
            "+------+-------+------+----------+\n",
            "|     1|    307|   3.5|1256677221|\n",
            "|     1|    481|   3.5|1256677456|\n",
            "|     1|   1091|   1.5|1256677471|\n",
            "|     1|   1257|   4.5|1256677460|\n",
            "|     1|   1449|   4.5|1256677264|\n",
            "|     1|   1590|   2.5|1256677236|\n",
            "|     1|   1591|   1.5|1256677475|\n",
            "|     1|   2134|   4.5|1256677464|\n",
            "|     1|   2478|   4.0|1256677239|\n",
            "|     1|   2840|   3.0|1256677500|\n",
            "|     1|   2986|   2.5|1256677496|\n",
            "|     1|   3020|   4.0|1256677260|\n",
            "|     1|   3424|   4.5|1256677444|\n",
            "|     1|   3698|   3.5|1256677243|\n",
            "|     1|   3826|   2.0|1256677210|\n",
            "|     1|   3893|   3.5|1256677486|\n",
            "|     2|    170|   3.5|1192913581|\n",
            "|     2|    849|   3.5|1192913537|\n",
            "|     2|   1186|   3.5|1192913611|\n",
            "|     2|   1235|   3.0|1192913585|\n",
            "+------+-------+------+----------+\n",
            "only showing top 20 rows\n",
            "\n"
          ]
        }
      ],
      "source": [
        "ratings.show()"
      ]
    },
    {
      "cell_type": "code",
      "execution_count": null,
      "id": "d5106433",
      "metadata": {
        "id": "d5106433",
        "outputId": "d76dde6f-18c4-4002-95b6-ea8a10d91859"
      },
      "outputs": [
        {
          "name": "stderr",
          "output_type": "stream",
          "text": [
            "[Stage 15:================================================>         (5 + 1) / 6]\r"
          ]
        },
        {
          "name": "stdout",
          "output_type": "stream",
          "text": [
            "+---------------+\n",
            "|Number_of_users|\n",
            "+---------------+\n",
            "|         283228|\n",
            "+---------------+\n",
            "\n"
          ]
        },
        {
          "name": "stderr",
          "output_type": "stream",
          "text": [
            "\r",
            "                                                                                \r"
          ]
        }
      ],
      "source": [
        "#Number of Users in the data\n",
        "q1=spark.sql(\"\"\"select count(distinct userId) as Number_of_users from ratings_data\"\"\")\n",
        "q1.show()"
      ]
    },
    {
      "cell_type": "code",
      "execution_count": null,
      "id": "3593e626",
      "metadata": {
        "id": "3593e626",
        "outputId": "29c584d4-5f3c-43e8-d8b5-99aca48e034c"
      },
      "outputs": [
        {
          "name": "stdout",
          "output_type": "stream",
          "text": [
            "+----------------+\n",
            "|Number_of_movies|\n",
            "+----------------+\n",
            "|           58098|\n",
            "+----------------+\n",
            "\n"
          ]
        }
      ],
      "source": [
        "#Number of Movies in the data\n",
        "q2=spark.sql(\"\"\"select count(*) as Number_of_movies from movies_data\"\"\")\n",
        "q2.show()"
      ]
    },
    {
      "cell_type": "code",
      "execution_count": null,
      "id": "4a7328c0",
      "metadata": {
        "id": "4a7328c0",
        "outputId": "3b5c17f7-936e-4c8b-a05d-0b280e41d1d2"
      },
      "outputs": [
        {
          "name": "stderr",
          "output_type": "stream",
          "text": [
            "[Stage 24:================================================>         (5 + 1) / 6]\r"
          ]
        },
        {
          "name": "stdout",
          "output_type": "stream",
          "text": [
            "+----------+----------+\n",
            "|Min_Rating|Max_Rating|\n",
            "+----------+----------+\n",
            "|       0.5|       5.0|\n",
            "+----------+----------+\n",
            "\n"
          ]
        },
        {
          "name": "stderr",
          "output_type": "stream",
          "text": [
            "\r",
            "                                                                                \r"
          ]
        }
      ],
      "source": [
        "#User Rating Range\n",
        "q3=spark.sql(\"\"\"select min(rating) as Min_Rating , max(rating) as Max_Rating from ratings_data\"\"\")\n",
        "q3.show()"
      ]
    },
    {
      "cell_type": "code",
      "execution_count": null,
      "id": "b37d530a",
      "metadata": {
        "id": "b37d530a",
        "outputId": "6c5406b4-4232-4afa-e86f-0c5a8192ed5e"
      },
      "outputs": [
        {
          "name": "stderr",
          "output_type": "stream",
          "text": [
            "[Stage 33:================================================>         (5 + 1) / 6]\r"
          ]
        },
        {
          "name": "stdout",
          "output_type": "stream",
          "text": [
            "+-------------------------+\n",
            "|Num_movies_with_no_rating|\n",
            "+-------------------------+\n",
            "|                     4209|\n",
            "+-------------------------+\n",
            "\n"
          ]
        },
        {
          "name": "stderr",
          "output_type": "stream",
          "text": [
            "\r",
            "                                                                                \r"
          ]
        }
      ],
      "source": [
        "#Movies which have no rating\n",
        "q4=spark.sql(\"\"\"select 58098-count(distinct movieId)  as Num_movies_with_no_rating from ratings_data\"\"\")\n",
        "q4.show()"
      ]
    },
    {
      "cell_type": "code",
      "execution_count": null,
      "id": "c7bfdc6c",
      "metadata": {
        "id": "c7bfdc6c",
        "outputId": "7e1dc840-95d6-435b-d61b-4a8b509994ea"
      },
      "outputs": [
        {
          "name": "stderr",
          "output_type": "stream",
          "text": [
            "[Stage 43:==================================>                       (3 + 2) / 5]\r"
          ]
        },
        {
          "name": "stdout",
          "output_type": "stream",
          "text": [
            "+--------------------+--------------------+------+\n",
            "|               title|              genres|rating|\n",
            "+--------------------+--------------------+------+\n",
            "|Baby Blue Marine ...|               Drama|  null|\n",
            "|Wide Open Spaces ...|    Animation|Comedy|  null|\n",
            "|Ashes and Blood (...|               Drama|  null|\n",
            "|Music in the Air ...|Comedy|Musical|Ro...|  null|\n",
            "|      Muggers (2000)|              Comedy|  null|\n",
            "|Tarzan's Magic Fo...|Action|Adventure|...|  null|\n",
            "| Black August (2007)|               Drama|  null|\n",
            "|Steel of Fire War...|             Fantasy|  null|\n",
            "| Yellow Fangs (1990)|    Action|Adventure|  null|\n",
            "| Yes, Giorgio (1982)|Comedy|Musical|Ro...|  null|\n",
            "+--------------------+--------------------+------+\n",
            "\n"
          ]
        },
        {
          "name": "stderr",
          "output_type": "stream",
          "text": [
            "\r",
            "                                                                                \r"
          ]
        }
      ],
      "source": [
        "#List of such movies which don't have a rating\n",
        "q5=spark.sql(\"\"\"select movies_data.title, movies_data.genres ,ratings_data.rating \n",
        "    from movies_data left JOIN ratings_data \n",
        "    on ratings_data.movieId = movies_data.movieID \n",
        "    where ratings_data.rating IS null LIMIT 10\"\"\")\n",
        "q5.show()"
      ]
    },
    {
      "cell_type": "code",
      "execution_count": null,
      "id": "8e37e4b6",
      "metadata": {
        "id": "8e37e4b6",
        "outputId": "dce67173-9102-40d4-83d2-d50a7540d8c9"
      },
      "outputs": [
        {
          "name": "stderr",
          "output_type": "stream",
          "text": [
            "[Stage 68:================================================>         (5 + 1) / 6]\r"
          ]
        },
        {
          "name": "stdout",
          "output_type": "stream",
          "text": [
            "+-------+------------------------------------------------------------------------------+-----------------+\n",
            "|movieId|title                                                                         |Num_users_rated_5|\n",
            "+-------+------------------------------------------------------------------------------+-----------------+\n",
            "|318    |Shawshank Redemption, The (1994)                                              |48762            |\n",
            "|296    |Pulp Fiction (1994)                                                           |37458            |\n",
            "|356    |Forrest Gump (1994)                                                           |32009            |\n",
            "|260    |Star Wars: Episode IV - A New Hope (1977)                                     |31385            |\n",
            "|593    |Silence of the Lambs, The (1991)                                              |30280            |\n",
            "|527    |Schindler's List (1993)                                                       |30194            |\n",
            "|2571   |Matrix, The (1999)                                                            |30126            |\n",
            "|858    |Godfather, The (1972)                                                         |28893            |\n",
            "|50     |Usual Suspects, The (1995)                                                    |24679            |\n",
            "|2959   |Fight Club (1999)                                                             |24366            |\n",
            "|1196   |Star Wars: Episode V - The Empire Strikes Back (1980)                         |24139            |\n",
            "|110    |Braveheart (1995)                                                             |22369            |\n",
            "|4993   |Lord of the Rings: The Fellowship of the Ring, The (2001)                     |21059            |\n",
            "|1198   |Raiders of the Lost Ark (Indiana Jones and the Raiders of the Lost Ark) (1981)|20854            |\n",
            "|2858   |American Beauty (1999)                                                        |20133            |\n",
            "|7153   |Lord of the Rings: The Return of the King, The (2003)                         |19404            |\n",
            "|1210   |Star Wars: Episode VI - Return of the Jedi (1983)                             |19191            |\n",
            "|608    |Fargo (1996)                                                                  |18616            |\n",
            "|5952   |Lord of the Rings: The Two Towers, The (2002)                                 |17918            |\n",
            "|589    |Terminator 2: Judgment Day (1991)                                             |16616            |\n",
            "+-------+------------------------------------------------------------------------------+-----------------+\n",
            "only showing top 20 rows\n",
            "\n"
          ]
        },
        {
          "name": "stderr",
          "output_type": "stream",
          "text": [
            "\r",
            "                                                                                \r"
          ]
        }
      ],
      "source": [
        "#List of movies which have a rating 5 by most users\n",
        "#Popular Movies\n",
        "q6=spark.sql(\"\"\"select ratings_data.movieId ,movies_data.title, count(*) as Num_users_rated_5\n",
        "            from ratings_data , movies_data\n",
        "            where ratings_data.movieId=movies_data.movieId\n",
        "            and rating=5\n",
        "            group by ratings_data.movieId , movies_data.title\n",
        "            order by Num_users_rated_5 desc\"\"\")\n",
        "q6.show(truncate=False)"
      ]
    },
    {
      "cell_type": "markdown",
      "id": "7532bb60",
      "metadata": {
        "id": "7532bb60"
      },
      "source": [
        "### Cleaning the Data"
      ]
    },
    {
      "cell_type": "code",
      "execution_count": null,
      "id": "3f9db4b1",
      "metadata": {
        "id": "3f9db4b1"
      },
      "outputs": [],
      "source": [
        "#Cleaning Genre in Movies\n",
        "extract_genres = udf(lambda x: x.split(\"|\"), ArrayType(StringType()))\n",
        "movies_clean = movies.select(\"movieId\", \"title\", extract_genres(\"genres\").alias(\"genres\"))"
      ]
    },
    {
      "cell_type": "code",
      "execution_count": null,
      "id": "b83d54e7",
      "metadata": {
        "colab": {
          "base_uri": "https://localhost:8080/"
        },
        "id": "b83d54e7",
        "outputId": "8e1bdcdd-5816-4765-e2d1-59606a527df6"
      },
      "outputs": [
        {
          "output_type": "stream",
          "name": "stdout",
          "text": [
            "+-------+----------------------------------+-------------------------------------------------+\n",
            "|movieId|title                             |genres                                           |\n",
            "+-------+----------------------------------+-------------------------------------------------+\n",
            "|1      |Toy Story (1995)                  |[Adventure, Animation, Children, Comedy, Fantasy]|\n",
            "|2      |Jumanji (1995)                    |[Adventure, Children, Fantasy]                   |\n",
            "|3      |Grumpier Old Men (1995)           |[Comedy, Romance]                                |\n",
            "|4      |Waiting to Exhale (1995)          |[Comedy, Drama, Romance]                         |\n",
            "|5      |Father of the Bride Part II (1995)|[Comedy]                                         |\n",
            "|6      |Heat (1995)                       |[Action, Crime, Thriller]                        |\n",
            "|7      |Sabrina (1995)                    |[Comedy, Romance]                                |\n",
            "|8      |Tom and Huck (1995)               |[Adventure, Children]                            |\n",
            "|9      |Sudden Death (1995)               |[Action]                                         |\n",
            "|10     |GoldenEye (1995)                  |[Action, Adventure, Thriller]                    |\n",
            "+-------+----------------------------------+-------------------------------------------------+\n",
            "\n"
          ]
        }
      ],
      "source": [
        "movies_clean.createOrReplaceTempView(\"movies_clean_data\")\n",
        "q7=spark.sql(\"select * from movies_clean_data limit 10\")\n",
        "q7.show(truncate=False)"
      ]
    },
    {
      "cell_type": "code",
      "execution_count": null,
      "id": "06063591",
      "metadata": {
        "colab": {
          "base_uri": "https://localhost:8080/"
        },
        "id": "06063591",
        "outputId": "c074f892-ad51-4dc4-9574-e59260fd62bb"
      },
      "outputs": [
        {
          "output_type": "stream",
          "name": "stdout",
          "text": [
            "+------+-------+------+\n",
            "|userId|movieId|rating|\n",
            "+------+-------+------+\n",
            "|1     |307    |3.5   |\n",
            "|1     |481    |3.5   |\n",
            "|1     |1091   |1.5   |\n",
            "|1     |1257   |4.5   |\n",
            "|1     |1449   |4.5   |\n",
            "|1     |1590   |2.5   |\n",
            "|1     |1591   |1.5   |\n",
            "|1     |2134   |4.5   |\n",
            "|1     |2478   |4.0   |\n",
            "|1     |2840   |3.0   |\n",
            "+------+-------+------+\n",
            "\n"
          ]
        }
      ],
      "source": [
        "#Removing Timestamp from ratings as there is no significance\n",
        "ratings=ratings.drop('timestamp')\n",
        "ratings.createOrReplaceTempView(\"ratings_data\")\n",
        "q8=spark.sql(\"select * from ratings_data limit 10\")\n",
        "q8.show(truncate=False)"
      ]
    },
    {
      "cell_type": "code",
      "execution_count": null,
      "id": "2d814ff6",
      "metadata": {
        "id": "2d814ff6"
      },
      "outputs": [],
      "source": [
        "#Since we are using SparkML models we need to convert the datatypes beforehand\n",
        "ratings = ratings.withColumn(\"userId\", ratings[\"userId\"].cast(IntegerType()))\n",
        "ratings = ratings.withColumn(\"movieId\", ratings[\"movieId\"].cast(IntegerType()))\n",
        "ratings = ratings.withColumn(\"rating\", ratings[\"rating\"].cast(FloatType()))"
      ]
    },
    {
      "cell_type": "markdown",
      "id": "2435cf59",
      "metadata": {
        "id": "2435cf59"
      },
      "source": [
        "### Recommendation model using ALS (Alternating Least Square)"
      ]
    },
    {
      "cell_type": "code",
      "execution_count": null,
      "id": "980caed9",
      "metadata": {
        "id": "980caed9"
      },
      "outputs": [],
      "source": [
        "#Splitting Train and Test Data\n",
        "(training,test)=ratings.randomSplit([0.8,0.2])"
      ]
    },
    {
      "cell_type": "code",
      "execution_count": null,
      "id": "83ea12d9",
      "metadata": {
        "id": "83ea12d9"
      },
      "outputs": [],
      "source": [
        "#Base ALS Model\n",
        "als = ALS(maxIter=5, rank=10, regParam=0.01, userCol=\"userId\", itemCol=\"movieId\", ratingCol=\"rating\",\n",
        "          coldStartStrategy=\"drop\")"
      ]
    },
    {
      "cell_type": "code",
      "execution_count": null,
      "id": "cd194293",
      "metadata": {
        "id": "cd194293"
      },
      "outputs": [],
      "source": [
        "#Paramgrid for testing various models\n",
        "paramGrid = (ParamGridBuilder()\n",
        "             .addGrid(als.regParam, [0.01,0.05])\n",
        "             .addGrid(als.rank, [10,15])\n",
        "             .addGrid(als.maxIter, [10,15])\n",
        "             .build())"
      ]
    },
    {
      "cell_type": "code",
      "execution_count": null,
      "id": "b508e278",
      "metadata": {
        "id": "b508e278"
      },
      "outputs": [],
      "source": [
        "#Evaluator to calculate rmse\n",
        "evaluator = RegressionEvaluator(metricName=\"rmse\", labelCol=\"rating\",\n",
        "                                predictionCol=\"prediction\")"
      ]
    },
    {
      "cell_type": "code",
      "execution_count": null,
      "id": "4d2d5bef",
      "metadata": {
        "id": "4d2d5bef",
        "outputId": "8be548ef-b380-43c1-b4f4-39c645f86df6"
      },
      "outputs": [
        {
          "name": "stderr",
          "output_type": "stream",
          "text": [
            "[Stage 1250:==============================================>         (5 + 1) / 6]\r"
          ]
        }
      ],
      "source": [
        "#CroosValidation to choose the best model\n",
        "from pyspark.ml.tuning import CrossValidator\n",
        "cv = CrossValidator(estimator=als, estimatorParamMaps=paramGrid, evaluator=evaluator, numFolds=2)\n",
        "cvModel = cv.fit(training)"
      ]
    },
    {
      "cell_type": "code",
      "source": [
        "#Parameters of the best choosen model by the Cross Validator\n",
        "best_model = cvModel.bestModel\n",
        "print (\"Best Model Parameters\")\n",
        "print (\"Rank: \", best_model)\n",
        "print (\" MaxIter: \", str(best_model._java_obj.parent().getMaxIter()))\n",
        "print (\" RegParam:\",  best_model._java_obj.parent().regParam())"
      ],
      "metadata": {
        "colab": {
          "base_uri": "https://localhost:8080/"
        },
        "id": "tHVDoaNj1H7y",
        "outputId": "2944a56b-01e4-4077-c82d-18a001c977f1"
      },
      "id": "tHVDoaNj1H7y",
      "execution_count": null,
      "outputs": [
        {
          "output_type": "stream",
          "name": "stdout",
          "text": [
            "Best Model Parameters\n",
            "Rank:  ALSModel: uid=ALS_5cd0ffd49dbc, rank=10\n",
            " MaxIter:  15\n",
            " RegParam: ALS_5cd0ffd49dbc__regParam\n"
          ]
        }
      ]
    },
    {
      "cell_type": "code",
      "execution_count": null,
      "id": "73d332f4",
      "metadata": {
        "id": "73d332f4"
      },
      "outputs": [],
      "source": [
        "#Building the best ALS Model and training \n",
        "als = ALS(maxIter=15, rank=10, regParam=0.01, userCol=\"userId\", itemCol=\"movieId\", ratingCol=\"rating\",\n",
        "          coldStartStrategy=\"drop\")\n",
        "model = als.fit(training)"
      ]
    },
    {
      "cell_type": "code",
      "execution_count": null,
      "id": "126683b7",
      "metadata": {
        "id": "126683b7"
      },
      "outputs": [],
      "source": [
        "#Predictions on Testing Data\n",
        "predictions=model.transform(test)\n",
        "rmse = evaluator.evaluate(predictions)"
      ]
    },
    {
      "cell_type": "code",
      "source": [
        "#RMSE\n",
        "rmse"
      ],
      "metadata": {
        "colab": {
          "base_uri": "https://localhost:8080/"
        },
        "id": "-T1umVFSx1ST",
        "outputId": "c9bc900a-9d15-4bc1-ae99-b0aa7676b259"
      },
      "id": "-T1umVFSx1ST",
      "execution_count": null,
      "outputs": [
        {
          "output_type": "execute_result",
          "data": {
            "text/plain": [
              "0.8306759698070435"
            ]
          },
          "metadata": {},
          "execution_count": 17
        }
      ]
    },
    {
      "cell_type": "code",
      "source": [
        "#Viewing Predictions\n",
        "predictions.show()"
      ],
      "metadata": {
        "colab": {
          "base_uri": "https://localhost:8080/"
        },
        "id": "JLAVvvm_ymX5",
        "outputId": "bfd6252f-f072-4063-ea1e-98892af79571"
      },
      "id": "JLAVvvm_ymX5",
      "execution_count": null,
      "outputs": [
        {
          "output_type": "stream",
          "name": "stdout",
          "text": [
            "+------+-------+------+----------+\n",
            "|userId|movieId|rating|prediction|\n",
            "+------+-------+------+----------+\n",
            "|     1|   1449|   4.5|  4.509094|\n",
            "|     1|   1590|   2.5|  2.297095|\n",
            "|     1|   3698|   3.5| 3.3633208|\n",
            "|     3|    640|   3.0| 3.5243711|\n",
            "|     3|    828|   4.0|  3.177774|\n",
            "|     3|   1321|   4.0| 2.9146967|\n",
            "|     5|     47|   4.0| 4.3403435|\n",
            "|     5|    318|   5.0| 4.5279922|\n",
            "|     5|    527|   4.5|  4.076883|\n",
            "|     5|   1186|   2.0| 3.3310359|\n",
            "|     5|   1213|   5.0|  4.334006|\n",
            "|     5|   1222|   5.0|  4.186054|\n",
            "|     5|   2060|   3.5| 2.8551536|\n",
            "|     5|   2329|   4.5|  4.431355|\n",
            "|     5|   2959|   4.5| 4.7137094|\n",
            "|     5|   4973|   5.0| 4.5480027|\n",
            "|     5|   6016|   5.0|  4.666273|\n",
            "|     5|   8784|   4.5|  4.562799|\n",
            "|     5|   8950|   4.5|   4.17676|\n",
            "|     5|  44204|   4.0| 3.9779193|\n",
            "+------+-------+------+----------+\n",
            "only showing top 20 rows\n",
            "\n"
          ]
        }
      ]
    },
    {
      "cell_type": "code",
      "source": [
        "#Movies Recommendation for User\n",
        "user_recmds = model.recommendForAllUsers(10)\n",
        "user_recmds.createOrReplaceTempView(\"user_recmds_data\")"
      ],
      "metadata": {
        "colab": {
          "base_uri": "https://localhost:8080/"
        },
        "id": "VI3OVDer4Gg-",
        "outputId": "fcc0d1f4-4615-49b6-abc0-8438345584d6"
      },
      "id": "VI3OVDer4Gg-",
      "execution_count": null,
      "outputs": [
        {
          "output_type": "stream",
          "name": "stderr",
          "text": [
            "/usr/local/lib/python3.7/dist-packages/pyspark/sql/context.py:127: FutureWarning: Deprecated in 3.0.0. Use SparkSession.builder.getOrCreate() instead.\n",
            "  FutureWarning\n"
          ]
        }
      ]
    },
    {
      "cell_type": "code",
      "source": [
        "#Recommendation Dataframe\n",
        "q9=spark.sql(\"select * from user_recmds_data limit 20\")\n",
        "q9.show()"
      ],
      "metadata": {
        "colab": {
          "base_uri": "https://localhost:8080/"
        },
        "id": "BMVYrLAg5rnr",
        "outputId": "a466d890-c1bb-4a38-ca8c-dd8e6f17f002"
      },
      "id": "BMVYrLAg5rnr",
      "execution_count": null,
      "outputs": [
        {
          "output_type": "stream",
          "name": "stdout",
          "text": [
            "+------+--------------------+\n",
            "|userId|     recommendations|\n",
            "+------+--------------------+\n",
            "|    12|[{129358, 6.98660...|\n",
            "|    22|[{132490, 11.5450...|\n",
            "|    26|[{147471, 11.2547...|\n",
            "|    27|[{152711, 14.4529...|\n",
            "|    28|[{6149, 12.533043...|\n",
            "|    31|[{152711, 10.8524...|\n",
            "|    34|[{59905, 11.41351...|\n",
            "|    44|[{184795, 18.1898...|\n",
            "|    47|[{154624, 8.93109...|\n",
            "|    53|[{151795, 8.37773...|\n",
            "|    65|[{172833, 21.6217...|\n",
            "|    76|[{102369, 10.8991...|\n",
            "|    78|[{8876, 12.162045...|\n",
            "|    81|[{185211, 8.31143...|\n",
            "|    85|[{133743, 16.0921...|\n",
            "|    91|[{124519, 16.9268...|\n",
            "|    93|[{92083, 12.23409...|\n",
            "|   101|[{152711, 10.4689...|\n",
            "|   103|[{58207, 10.45387...|\n",
            "|   108|[{152711, 13.9579...|\n",
            "+------+--------------------+\n",
            "\n"
          ]
        }
      ]
    },
    {
      "cell_type": "code",
      "source": [
        "#Converting to Pandas\n",
        "user_recmds_p=user_recmds.toPandas()"
      ],
      "metadata": {
        "id": "FdtiWD0X578X"
      },
      "id": "FdtiWD0X578X",
      "execution_count": null,
      "outputs": []
    },
    {
      "cell_type": "code",
      "source": [
        "user_recmds_p"
      ],
      "metadata": {
        "colab": {
          "base_uri": "https://localhost:8080/",
          "height": 424
        },
        "id": "IFEmIK1v89LK",
        "outputId": "23a68c20-a679-42ef-fb9d-f0ee1a32db7f"
      },
      "id": "IFEmIK1v89LK",
      "execution_count": null,
      "outputs": [
        {
          "output_type": "execute_result",
          "data": {
            "text/plain": [
              "        userId                                    recommendations\n",
              "0           12  [(129358, 6.986605644226074), (163060, 6.92760...\n",
              "1           22  [(132490, 11.545042991638184), (8876, 11.49709...\n",
              "2           26  [(147471, 11.254745483398438), (27771, 10.6584...\n",
              "3           27  [(152711, 14.452960968017578), (128536, 12.421...\n",
              "4           28  [(6149, 12.533042907714844), (155115, 12.10838...\n",
              "...        ...                                                ...\n",
              "281918  283216  [(100289, 15.648998260498047), (93061, 15.3358...\n",
              "281919  283217  [(124131, 11.295330047607422), (59905, 11.2243...\n",
              "281920  283218  [(126963, 7.237307071685791), (159779, 6.96765...\n",
              "281921  283225  [(152711, 7.781731605529785), (69429, 7.024081...\n",
              "281922  283226  [(158322, 9.014796257019043), (186495, 8.11571...\n",
              "\n",
              "[281923 rows x 2 columns]"
            ],
            "text/html": [
              "\n",
              "  <div id=\"df-1ce4d884-91ca-44ca-b314-71a0ce06983e\">\n",
              "    <div class=\"colab-df-container\">\n",
              "      <div>\n",
              "<style scoped>\n",
              "    .dataframe tbody tr th:only-of-type {\n",
              "        vertical-align: middle;\n",
              "    }\n",
              "\n",
              "    .dataframe tbody tr th {\n",
              "        vertical-align: top;\n",
              "    }\n",
              "\n",
              "    .dataframe thead th {\n",
              "        text-align: right;\n",
              "    }\n",
              "</style>\n",
              "<table border=\"1\" class=\"dataframe\">\n",
              "  <thead>\n",
              "    <tr style=\"text-align: right;\">\n",
              "      <th></th>\n",
              "      <th>userId</th>\n",
              "      <th>recommendations</th>\n",
              "    </tr>\n",
              "  </thead>\n",
              "  <tbody>\n",
              "    <tr>\n",
              "      <th>0</th>\n",
              "      <td>12</td>\n",
              "      <td>[(129358, 6.986605644226074), (163060, 6.92760...</td>\n",
              "    </tr>\n",
              "    <tr>\n",
              "      <th>1</th>\n",
              "      <td>22</td>\n",
              "      <td>[(132490, 11.545042991638184), (8876, 11.49709...</td>\n",
              "    </tr>\n",
              "    <tr>\n",
              "      <th>2</th>\n",
              "      <td>26</td>\n",
              "      <td>[(147471, 11.254745483398438), (27771, 10.6584...</td>\n",
              "    </tr>\n",
              "    <tr>\n",
              "      <th>3</th>\n",
              "      <td>27</td>\n",
              "      <td>[(152711, 14.452960968017578), (128536, 12.421...</td>\n",
              "    </tr>\n",
              "    <tr>\n",
              "      <th>4</th>\n",
              "      <td>28</td>\n",
              "      <td>[(6149, 12.533042907714844), (155115, 12.10838...</td>\n",
              "    </tr>\n",
              "    <tr>\n",
              "      <th>...</th>\n",
              "      <td>...</td>\n",
              "      <td>...</td>\n",
              "    </tr>\n",
              "    <tr>\n",
              "      <th>281918</th>\n",
              "      <td>283216</td>\n",
              "      <td>[(100289, 15.648998260498047), (93061, 15.3358...</td>\n",
              "    </tr>\n",
              "    <tr>\n",
              "      <th>281919</th>\n",
              "      <td>283217</td>\n",
              "      <td>[(124131, 11.295330047607422), (59905, 11.2243...</td>\n",
              "    </tr>\n",
              "    <tr>\n",
              "      <th>281920</th>\n",
              "      <td>283218</td>\n",
              "      <td>[(126963, 7.237307071685791), (159779, 6.96765...</td>\n",
              "    </tr>\n",
              "    <tr>\n",
              "      <th>281921</th>\n",
              "      <td>283225</td>\n",
              "      <td>[(152711, 7.781731605529785), (69429, 7.024081...</td>\n",
              "    </tr>\n",
              "    <tr>\n",
              "      <th>281922</th>\n",
              "      <td>283226</td>\n",
              "      <td>[(158322, 9.014796257019043), (186495, 8.11571...</td>\n",
              "    </tr>\n",
              "  </tbody>\n",
              "</table>\n",
              "<p>281923 rows × 2 columns</p>\n",
              "</div>\n",
              "      <button class=\"colab-df-convert\" onclick=\"convertToInteractive('df-1ce4d884-91ca-44ca-b314-71a0ce06983e')\"\n",
              "              title=\"Convert this dataframe to an interactive table.\"\n",
              "              style=\"display:none;\">\n",
              "        \n",
              "  <svg xmlns=\"http://www.w3.org/2000/svg\" height=\"24px\"viewBox=\"0 0 24 24\"\n",
              "       width=\"24px\">\n",
              "    <path d=\"M0 0h24v24H0V0z\" fill=\"none\"/>\n",
              "    <path d=\"M18.56 5.44l.94 2.06.94-2.06 2.06-.94-2.06-.94-.94-2.06-.94 2.06-2.06.94zm-11 1L8.5 8.5l.94-2.06 2.06-.94-2.06-.94L8.5 2.5l-.94 2.06-2.06.94zm10 10l.94 2.06.94-2.06 2.06-.94-2.06-.94-.94-2.06-.94 2.06-2.06.94z\"/><path d=\"M17.41 7.96l-1.37-1.37c-.4-.4-.92-.59-1.43-.59-.52 0-1.04.2-1.43.59L10.3 9.45l-7.72 7.72c-.78.78-.78 2.05 0 2.83L4 21.41c.39.39.9.59 1.41.59.51 0 1.02-.2 1.41-.59l7.78-7.78 2.81-2.81c.8-.78.8-2.07 0-2.86zM5.41 20L4 18.59l7.72-7.72 1.47 1.35L5.41 20z\"/>\n",
              "  </svg>\n",
              "      </button>\n",
              "      \n",
              "  <style>\n",
              "    .colab-df-container {\n",
              "      display:flex;\n",
              "      flex-wrap:wrap;\n",
              "      gap: 12px;\n",
              "    }\n",
              "\n",
              "    .colab-df-convert {\n",
              "      background-color: #E8F0FE;\n",
              "      border: none;\n",
              "      border-radius: 50%;\n",
              "      cursor: pointer;\n",
              "      display: none;\n",
              "      fill: #1967D2;\n",
              "      height: 32px;\n",
              "      padding: 0 0 0 0;\n",
              "      width: 32px;\n",
              "    }\n",
              "\n",
              "    .colab-df-convert:hover {\n",
              "      background-color: #E2EBFA;\n",
              "      box-shadow: 0px 1px 2px rgba(60, 64, 67, 0.3), 0px 1px 3px 1px rgba(60, 64, 67, 0.15);\n",
              "      fill: #174EA6;\n",
              "    }\n",
              "\n",
              "    [theme=dark] .colab-df-convert {\n",
              "      background-color: #3B4455;\n",
              "      fill: #D2E3FC;\n",
              "    }\n",
              "\n",
              "    [theme=dark] .colab-df-convert:hover {\n",
              "      background-color: #434B5C;\n",
              "      box-shadow: 0px 1px 3px 1px rgba(0, 0, 0, 0.15);\n",
              "      filter: drop-shadow(0px 1px 2px rgba(0, 0, 0, 0.3));\n",
              "      fill: #FFFFFF;\n",
              "    }\n",
              "  </style>\n",
              "\n",
              "      <script>\n",
              "        const buttonEl =\n",
              "          document.querySelector('#df-1ce4d884-91ca-44ca-b314-71a0ce06983e button.colab-df-convert');\n",
              "        buttonEl.style.display =\n",
              "          google.colab.kernel.accessAllowed ? 'block' : 'none';\n",
              "\n",
              "        async function convertToInteractive(key) {\n",
              "          const element = document.querySelector('#df-1ce4d884-91ca-44ca-b314-71a0ce06983e');\n",
              "          const dataTable =\n",
              "            await google.colab.kernel.invokeFunction('convertToInteractive',\n",
              "                                                     [key], {});\n",
              "          if (!dataTable) return;\n",
              "\n",
              "          const docLinkHtml = 'Like what you see? Visit the ' +\n",
              "            '<a target=\"_blank\" href=https://colab.research.google.com/notebooks/data_table.ipynb>data table notebook</a>'\n",
              "            + ' to learn more about interactive tables.';\n",
              "          element.innerHTML = '';\n",
              "          dataTable['output_type'] = 'display_data';\n",
              "          await google.colab.output.renderOutput(dataTable, element);\n",
              "          const docLink = document.createElement('div');\n",
              "          docLink.innerHTML = docLinkHtml;\n",
              "          element.appendChild(docLink);\n",
              "        }\n",
              "      </script>\n",
              "    </div>\n",
              "  </div>\n",
              "  "
            ]
          },
          "metadata": {},
          "execution_count": 29
        }
      ]
    },
    {
      "cell_type": "code",
      "source": [
        "#Function for extracting movie recommendations for a user\n",
        "def get_movies_for_user(user_id):\n",
        "  for i in range(len(user_recmds_p)):\n",
        "    if(user_recmds_p.iloc[i]['userId']==user_id):\n",
        "      return user_recmds_p.iloc[i]['recommendations']\n",
        "    if(user_recmds_p.iloc[i]['userId']>user_id):\n",
        "      return \"UserId doesn't exist\"\n"
      ],
      "metadata": {
        "id": "DwZm3dDFAC1d"
      },
      "id": "DwZm3dDFAC1d",
      "execution_count": null,
      "outputs": []
    },
    {
      "cell_type": "code",
      "source": [
        "#Test1\n",
        "get_movies_for_user(12)"
      ],
      "metadata": {
        "colab": {
          "base_uri": "https://localhost:8080/"
        },
        "id": "quIHUbggBjsr",
        "outputId": "f75bd2f0-ffb3-4e66-950a-074270c27fd9"
      },
      "id": "quIHUbggBjsr",
      "execution_count": null,
      "outputs": [
        {
          "output_type": "execute_result",
          "data": {
            "text/plain": [
              "[Row(movieId=129358, rating=6.986605644226074),\n",
              " Row(movieId=163060, rating=6.927602291107178),\n",
              " Row(movieId=94101, rating=6.897332668304443),\n",
              " Row(movieId=108770, rating=6.844421863555908),\n",
              " Row(movieId=145787, rating=6.814711570739746),\n",
              " Row(movieId=140196, rating=6.728077411651611),\n",
              " Row(movieId=133087, rating=6.563270092010498),\n",
              " Row(movieId=167526, rating=6.368298530578613),\n",
              " Row(movieId=131554, rating=6.300866603851318),\n",
              " Row(movieId=134079, rating=6.213343143463135)]"
            ]
          },
          "metadata": {},
          "execution_count": 50
        }
      ]
    },
    {
      "cell_type": "code",
      "source": [
        "#Test2 \n",
        "get_movies_for_user(10177)"
      ],
      "metadata": {
        "colab": {
          "base_uri": "https://localhost:8080/"
        },
        "id": "ufTHBaz-JPUv",
        "outputId": "7d94bc94-8883-40ce-9b02-cfd705d61085"
      },
      "id": "ufTHBaz-JPUv",
      "execution_count": null,
      "outputs": [
        {
          "output_type": "execute_result",
          "data": {
            "text/plain": [
              "[Row(movieId=153010, rating=7.355489730834961),\n",
              " Row(movieId=117362, rating=7.297168731689453),\n",
              " Row(movieId=99901, rating=7.178287506103516),\n",
              " Row(movieId=116507, rating=7.104884147644043),\n",
              " Row(movieId=185211, rating=7.053183078765869),\n",
              " Row(movieId=116847, rating=6.961415767669678),\n",
              " Row(movieId=154624, rating=6.933083534240723),\n",
              " Row(movieId=60983, rating=6.888068675994873),\n",
              " Row(movieId=153018, rating=6.619941234588623),\n",
              " Row(movieId=142677, rating=6.582759857177734)]"
            ]
          },
          "metadata": {},
          "execution_count": 65
        }
      ]
    },
    {
      "cell_type": "code",
      "source": [
        "#Users Recommendation for Movie\n",
        "movie_recmds = model.recommendForAllItems(10)\n",
        "movie_recmds.createOrReplaceTempView(\"movie_recmds_data\")"
      ],
      "metadata": {
        "colab": {
          "base_uri": "https://localhost:8080/"
        },
        "id": "EKSheE-oBoqW",
        "outputId": "3b37f66a-9a48-4abc-9a91-a7fe39cc025b"
      },
      "id": "EKSheE-oBoqW",
      "execution_count": null,
      "outputs": [
        {
          "output_type": "stream",
          "name": "stderr",
          "text": [
            "/usr/local/lib/python3.7/dist-packages/pyspark/sql/context.py:127: FutureWarning: Deprecated in 3.0.0. Use SparkSession.builder.getOrCreate() instead.\n",
            "  FutureWarning\n"
          ]
        }
      ]
    },
    {
      "cell_type": "code",
      "source": [
        "#Recommendation Dataframe\n",
        "q10=spark.sql(\"select * from movie_recmds_data limit 20\")\n",
        "q10.show()"
      ],
      "metadata": {
        "colab": {
          "base_uri": "https://localhost:8080/"
        },
        "id": "AfpFO04JEODC",
        "outputId": "cea4ad9c-61e5-47bd-d99b-2100a8f39dc8"
      },
      "id": "AfpFO04JEODC",
      "execution_count": null,
      "outputs": [
        {
          "output_type": "stream",
          "name": "stdout",
          "text": [
            "+-------+--------------------+\n",
            "|movieId|     recommendations|\n",
            "+-------+--------------------+\n",
            "|      1|[{139001, 10.0706...|\n",
            "|      3|[{125354, 7.75680...|\n",
            "|      5|[{108306, 7.29449...|\n",
            "|      6|[{173843, 8.38528...|\n",
            "|      9|[{140941, 7.91609...|\n",
            "|     12|[{169403, 10.6502...|\n",
            "|     13|[{133450, 9.28163...|\n",
            "|     15|[{181384, 8.27760...|\n",
            "|     16|[{270297, 9.14374...|\n",
            "|     17|[{38421, 9.039085...|\n",
            "|     19|[{200417, 10.8934...|\n",
            "|     20|[{37662, 7.93781}...|\n",
            "|     22|[{95602, 8.120821...|\n",
            "|     26|[{145572, 6.97089...|\n",
            "|     27|[{243243, 8.84399...|\n",
            "|     28|[{58298, 9.086924...|\n",
            "|     31|[{34976, 8.531595...|\n",
            "|     34|[{190613, 12.1108...|\n",
            "|     35|[{281956, 9.67580...|\n",
            "|     37|[{243243, 8.93157...|\n",
            "+-------+--------------------+\n",
            "\n"
          ]
        }
      ]
    },
    {
      "cell_type": "code",
      "source": [
        "#Converting to Pandas\n",
        "movie_recmds_p=movie_recmds.toPandas()"
      ],
      "metadata": {
        "id": "vILwyND_EjWk"
      },
      "id": "vILwyND_EjWk",
      "execution_count": null,
      "outputs": []
    },
    {
      "cell_type": "code",
      "source": [
        "#Function for extracting user recommendations for a movie\n",
        "def get_users_for_movie(movie_id):\n",
        "  for i in range(len(movie_recmds_p)):\n",
        "    if(movie_recmds_p.iloc[i]['movieId']==movie_id):\n",
        "      return movie_recmds_p.iloc[i]['recommendations']\n",
        "    if(movie_recmds_p.iloc[i]['movieId']>movie_id):\n",
        "      return \"MovieId doesn't exist\""
      ],
      "metadata": {
        "id": "xPqnxmz0Gwpi"
      },
      "id": "xPqnxmz0Gwpi",
      "execution_count": null,
      "outputs": []
    },
    {
      "cell_type": "code",
      "source": [
        "#Test 1\n",
        "get_users_for_movie(20)"
      ],
      "metadata": {
        "colab": {
          "base_uri": "https://localhost:8080/"
        },
        "id": "5DTWVKNjI80C",
        "outputId": "a3c6fcf5-1a04-411c-e23a-99b11d2fad34"
      },
      "id": "5DTWVKNjI80C",
      "execution_count": null,
      "outputs": [
        {
          "output_type": "execute_result",
          "data": {
            "text/plain": [
              "[Row(userId=37662, rating=7.937809944152832),\n",
              " Row(userId=111118, rating=7.344248294830322),\n",
              " Row(userId=266729, rating=7.266976356506348),\n",
              " Row(userId=266673, rating=7.121130466461182),\n",
              " Row(userId=95602, rating=7.106856822967529),\n",
              " Row(userId=238903, rating=7.074843406677246),\n",
              " Row(userId=201400, rating=6.959606170654297),\n",
              " Row(userId=34976, rating=6.878569602966309),\n",
              " Row(userId=240636, rating=6.811020851135254),\n",
              " Row(userId=61191, rating=6.656955242156982)]"
            ]
          },
          "metadata": {},
          "execution_count": 67
        }
      ]
    },
    {
      "cell_type": "code",
      "source": [
        "#Test 2\n",
        "get_users_for_movie(34)"
      ],
      "metadata": {
        "colab": {
          "base_uri": "https://localhost:8080/"
        },
        "id": "BdW_WiUmJED6",
        "outputId": "350d3669-97d5-4c35-f372-c30988dc544a"
      },
      "id": "BdW_WiUmJED6",
      "execution_count": null,
      "outputs": [
        {
          "output_type": "execute_result",
          "data": {
            "text/plain": [
              "[Row(userId=190613, rating=12.110831260681152),\n",
              " Row(userId=139001, rating=10.300350189208984),\n",
              " Row(userId=210658, rating=9.101146697998047),\n",
              " Row(userId=146315, rating=9.072606086730957),\n",
              " Row(userId=266946, rating=8.844446182250977),\n",
              " Row(userId=238009, rating=8.80825138092041),\n",
              " Row(userId=38421, rating=8.797003746032715),\n",
              " Row(userId=214123, rating=8.792547225952148),\n",
              " Row(userId=50940, rating=8.76793384552002),\n",
              " Row(userId=82786, rating=8.762255668640137)]"
            ]
          },
          "metadata": {},
          "execution_count": 68
        }
      ]
    },
    {
      "cell_type": "code",
      "source": [
        ""
      ],
      "metadata": {
        "id": "n9Sigd63Kdsj"
      },
      "id": "n9Sigd63Kdsj",
      "execution_count": null,
      "outputs": []
    }
  ],
  "metadata": {
    "kernelspec": {
      "display_name": "Python 3 (ipykernel)",
      "language": "python",
      "name": "python3"
    },
    "language_info": {
      "codemirror_mode": {
        "name": "ipython",
        "version": 3
      },
      "file_extension": ".py",
      "mimetype": "text/x-python",
      "name": "python",
      "nbconvert_exporter": "python",
      "pygments_lexer": "ipython3",
      "version": "3.9.7"
    },
    "colab": {
      "name": "MovieRecoSystem.ipynb",
      "provenance": [],
      "collapsed_sections": []
    },
    "accelerator": "GPU"
  },
  "nbformat": 4,
  "nbformat_minor": 5
}